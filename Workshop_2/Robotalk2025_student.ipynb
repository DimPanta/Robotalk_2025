{
  "nbformat": 4,
  "nbformat_minor": 0,
  "metadata": {
    "colab": {
      "provenance": [],
      "toc_visible": true
    },
    "kernelspec": {
      "name": "python3",
      "display_name": "Python 3"
    },
    "language_info": {
      "name": "python"
    }
  },
  "cells": [
    {
      "cell_type": "markdown",
      "source": [
        "# **ROBOTALK 2025**\n",
        "\n",
        "## STRAIGHT LINES ARE BORING, LET'S USE CLOTHOIDS\n",
        "\n",
        "-------------------------------------------------"
      ],
      "metadata": {
        "id": "7Kb3O5iDu-R-"
      }
    },
    {
      "cell_type": "markdown",
      "source": [
        "Οι απαιτούμενες βιβλιοθήκες για το συγκεκριμένο workshop είναι οι εξής:"
      ],
      "metadata": {
        "id": "VLrj9UVkvBtZ"
      }
    },
    {
      "cell_type": "code",
      "source": [
        "!pip3 install networkx\n",
        "!pip3 install matplotlib\n",
        "!pip3 install ipywidgets\n",
        "!pip3 install pyclothoids"
      ],
      "metadata": {
        "collapsed": true,
        "id": "5d6I2fsZvDWJ"
      },
      "execution_count": null,
      "outputs": []
    },
    {
      "cell_type": "markdown",
      "source": [
        "Αφού κατεβάσαμε τις απαιτούμενες βιβλιοθήκες θα τις κάνουμε $\\text{import}$:"
      ],
      "metadata": {
        "id": "LMCqouRnvQ_i"
      }
    },
    {
      "cell_type": "code",
      "source": [
        "import networkx as nx\n",
        "from collections import deque\n",
        "import matplotlib.pyplot as plt\n",
        "from google.colab import output\n",
        "import ipywidgets as widgets\n",
        "from IPython.display import display, clear_output\n",
        "from matplotlib import rcParams\n",
        "import matplotlib.pyplot as plt\n",
        "import matplotlib.cm as cm\n",
        "import numpy as np\n",
        "from pyclothoids import Clothoid, SolveG2\n",
        "import math\n",
        "from types import DynamicClassAttribute\n",
        "import cv2\n",
        "from google.colab.patches import cv2_imshow"
      ],
      "metadata": {
        "id": "AIGVLOYVvTKX"
      },
      "execution_count": null,
      "outputs": []
    },
    {
      "cell_type": "code",
      "source": [
        "# Global variables to share data between cells\n",
        "G = None\n",
        "positions = None\n",
        "start_node = None\n",
        "target_nodes = None\n",
        "fpath = None"
      ],
      "metadata": {
        "id": "SFUl2Ic5k9lZ"
      },
      "execution_count": null,
      "outputs": []
    },
    {
      "cell_type": "markdown",
      "source": [
        "## The Track\n",
        "\n",
        "-------------------------------------------------"
      ],
      "metadata": {
        "id": "A64Pcd92uPmK"
      }
    },
    {
      "cell_type": "markdown",
      "source": [
        "Στη συνέχεια, θα φορτώσουμε τον γράφο μας και θα εξαγάγουμε τις αναγκαίες πληροφορίες του με τη βοήθεια της βιβλιοθήκης $networkx$:"
      ],
      "metadata": {
        "id": "R9CMcuWQL5d5"
      }
    },
    {
      "cell_type": "code",
      "source": [
        "def load_and_display_graph(graphml_file):\n",
        "    \"\"\"\n",
        "    Load and display a graph from a GraphML file\n",
        "    \"\"\"\n",
        "    # Load the graph\n",
        "    global G, positions\n",
        "    G = nx.read_graphml(graphml_file)\n",
        "\n",
        "    # Get node positions from graph data\n",
        "    positions = {\n",
        "        node: (float(G.nodes[node]['x']), float(G.nodes[node]['y']))\n",
        "        for node in G.nodes()\n",
        "    }\n",
        "    return G, positions\n"
      ],
      "metadata": {
        "id": "QSgw46nMvXaB"
      },
      "execution_count": null,
      "outputs": []
    },
    {
      "cell_type": "markdown",
      "source": [
        "Αν τώρα θέλουμε να εμφανίσουμε το γράφο μπορούμε απλά να τρέξουμε:"
      ],
      "metadata": {
        "id": "QfeT22ObvZxZ"
      }
    },
    {
      "cell_type": "code",
      "source": [
        "G, positions = _____________ # We want to load the graphml file to be ready for display\n",
        "\n",
        "# Create the plot\n",
        "plt.figure(figsize=(12, 8))\n",
        "\n",
        "# Draw the graph\n",
        "nx.draw(G,\n",
        "        pos = positions,\n",
        "        with_labels = True,  # Show node labels\n",
        "        node_color = 'lightblue',\n",
        "        node_size = 500,\n",
        "        font_size = 10,\n",
        "        edge_color = 'gray')\n",
        "\n",
        "plt.title(\"Track Graph Visualization\", fontsize = 18)\n",
        "plt.axis('equal')  # Equal aspect ratio\n",
        "plt.grid(True)\n",
        "plt.show()"
      ],
      "metadata": {
        "id": "UKkwHvv-vbcw"
      },
      "execution_count": null,
      "outputs": []
    },
    {
      "cell_type": "markdown",
      "source": [
        "Η συγκεκριμένη πίστα στην πραγματική ζωή είναι η παρακάτω:"
      ],
      "metadata": {
        "id": "xQIXpBGjYDmL"
      }
    },
    {
      "cell_type": "code",
      "source": [
        "image = cv2.imread('lab_track.jpg')  # Replace with your image file\n",
        "cv2_imshow(image)"
      ],
      "metadata": {
        "id": "4Q9myyEbcMwl"
      },
      "execution_count": null,
      "outputs": []
    },
    {
      "cell_type": "markdown",
      "source": [
        "## Path Finding\n",
        "-------------------------------------------------"
      ],
      "metadata": {
        "id": "dwSaYG07ufxY"
      }
    },
    {
      "cell_type": "markdown",
      "source": [
        "Αφού φορτώσαμε επιτυχώς το γράφο, είμαστε έτοιμοι να εφαρμόσουμε τον $BFS$ αλγοριθμό μας ώστε να βρούμε το βέλτιστο μονοπάτι το οποίο ξεκινάει από την αφετηρία μας και περνάει από όλους τους $target$ κόμβους που έχουμε ορίσει.\\\n",
        "***Προσοχή:*** Επειδή ο γράφος μας είναι κατευθυνόμενος, υπάρχουν συνδυασμοί κόμβων που δεν μπορούμε να τοποθετήσουμε ως $target$ $nodes$. Σε αυτή την περίπτωση η διαδρομή μας πάλι θα σχεδιαστεί, απλά θα \"πετάξει\" κάποιους από τους προορισμούς μας εκτός εμφανίζοντας το αντίστοιχο μήνυμα.\\\n",
        "Ο BFS που γνωρίζουμε ωστόσο δεν επαρκεί για την εύρεση διαδρομής μέσω πολλαπλών στόχων.\\\n",
        "Αυτό που θα κάνουμε είναι μια παραλλαγή του:\n",
        "* Σε κάθε βήμα, ο κύριος βρόχος τρέχει $BFS$ για κάθε εναπομείναντα στόχο, επιλέγοντας πάντα αυτόν με τη συντομότερη διαδρομή από τον τρέχοντα κόμβο.\n",
        "\n",
        "(Προφανώς αυτή η προσέγγιση δεν είναι η βέλτιστη για το συγκεκριμένο πρόβλημα. Για έναν μικρό στατικό γράφο θα μπορούσαμε να υπολογίσουμε τις βέλτιστες διαδρομές από κάθε κόμβο προς κάθε άλλο με τον αλγόριθμο $Floyd-Warshall$, $Ο(n^3)$ και να τις αποθηκεύσουμε σε έναν μνημονικό πίνακα. Αλλιώς, μια υλοποίηση πιο κοντά στην παρούσα είναι η αντικατάσταση του $BFS$ με τον αλγόριθμο $Dijkstra$ με πολυπλοκότητα $Ο(m*n^2)$), όπου m ο αριθμός των κόμβων-στόχων."
      ],
      "metadata": {
        "id": "zjLIP6hrvdoC"
      }
    },
    {
      "cell_type": "code",
      "source": [
        "def find_path_through_nodes(G, start_node, target_nodes):\n",
        "    \"\"\"\n",
        "    Find a path that visits all target nodes using BFS\n",
        "    \"\"\"\n",
        "    def bfs_to_target(current_node, target):\n",
        "    \"\"\"Find shortest path between two nodes using BFS\"\"\"\n",
        "\n",
        "        # TODO: Initialize the queue with the starting node and its path\n",
        "        # (The queue should contain tuples of (node, path_to_node))\n",
        "        queue = ______([(current_node, [current_node])])\n",
        "\n",
        "        # TODO: Initialize the set of visited nodes\n",
        "        # (Start with the current_node to avoid revisiting it)\n",
        "        visited = ______([current_node])\n",
        "\n",
        "        while queue:\n",
        "            # TODO: Get the next node and its path from the queue\n",
        "            # (Use the appropriate method to remove from the left side of the queue)\n",
        "            node, path = queue.______()\n",
        "\n",
        "            # Check neighbors\n",
        "            for next_node in G.neighbors(str(node)):\n",
        "                # TODO: Convert the node ID from string to integer for easier handling\n",
        "                next_node = ______(next_node)\n",
        "\n",
        "                # TODO: Check if we've already visited this node\n",
        "                if next_node ___ __ ______:\n",
        "                    # TODO: Create a new path by adding this node to the current path\n",
        "                    new_path = path + [______]\n",
        "\n",
        "                    # TODO: Check if we've reached the target node\n",
        "                    if next_node == ______:\n",
        "                        return new_path\n",
        "\n",
        "                    # TODO: Mark this node as visited\n",
        "                    ______.add(next_node)\n",
        "\n",
        "                    # TODO: Add the new node and its path to the queue\n",
        "                    queue.______((____, new_path))\n",
        "\n",
        "        # TODO: Return the appropriate value if no path is found\n",
        "        return ______\n",
        "\n",
        "    # Convert nodes to integers for easier handling\n",
        "    target_nodes = [int(n) for n in target_nodes]\n",
        "    start_node = int(start_node)\n",
        "\n",
        "    # Initialize the final path with the start node\n",
        "    final_path = [start_node]\n",
        "    current_node = start_node\n",
        "\n",
        "    # Find path to each target node in sequence\n",
        "    # TODO: Create a copy of target_nodes to track remaining targets\n",
        "    # (Hint: We need a new list we can modify without affecting the original)\n",
        "    remaining_targets = ______.copy()\n",
        "\n",
        "    while remaining_targets:\n",
        "        # Find the closest remaining target\n",
        "        best_path = None\n",
        "        best_target = None\n",
        "\n",
        "        for target in remaining_targets:\n",
        "            path = bfs_to_target(current_node, target)\n",
        "            # TODO: Check if this path is better than our current best path\n",
        "            # (We need to check if the path exists and if it's shorter than the best path so far)\n",
        "            if path and (best_path is None or len(path) < ______):\n",
        "                best_path = path\n",
        "                best_target = target\n",
        "\n",
        "        # If we cannot reach any remaining target, we leave the node out of the path\n",
        "        if best_path is None:\n",
        "            print(f\"Cannot reach remaining targets: {remaining_targets}\")\n",
        "            break\n",
        "\n",
        "        # Add the path (excluding the start node which is already included)\n",
        "        final_path.extend(best_path[1:])\n",
        "        current_node = best_target # Change the starting node as we moved on\n",
        "        remaining_targets.remove(best_target)\n",
        "\n",
        "    global fpath\n",
        "    fpath = final_path\n",
        "\n",
        "    return final_path"
      ],
      "metadata": {
        "id": "35fdgWSAvfI5"
      },
      "execution_count": null,
      "outputs": []
    },
    {
      "cell_type": "markdown",
      "source": [
        "Ο παρακάτω κώδικας εμφανίζει το τελικό μονοπάτι που θα ακολουθήσουμε. Για την οπτικοποίηση του υπάρχουν δύο κουμπία:\n",
        "* Πατώντας το $\\text{next node}$, εμφανίζουμε βήμα βήμα το δρόμο που θα ακολουθήσουμε.\n",
        "* Ενώ το δεξί κουμπί μας δείχνει απευθείας το τελικό μονοπάτι."
      ],
      "metadata": {
        "id": "ye32CYVNvhID"
      }
    },
    {
      "cell_type": "code",
      "source": [
        "def plot_interactive(nodes_to_pass_through):\n",
        "    # Set figure size\n",
        "    rcParams['figure.figsize'] = (12, 8)\n",
        "\n",
        "    # Convert node IDs to strings since NetworkX uses string identifiers\n",
        "    nodes_to_pass_through_str = [str(node) for node in nodes_to_pass_through]\n",
        "\n",
        "    # Define equivalent nodes and overlapping edges\n",
        "    equivalent_nodes_map = {\"3\": [\"50\", \"79\"], \"50\": [\"3\", \"79\"], \"79\": [\"3\", \"50\"]}\n",
        "    overlapping_edges = {\n",
        "        \"78\": [\"79\", \"50\"],\n",
        "        \"80\": [\"50\", \"3\"],\n",
        "        \"4\": [\"79\", \"3\"]\n",
        "    }\n",
        "\n",
        "    # Extend the path to include equivalent nodes immediately after the original node\n",
        "    extended_path = []\n",
        "    for node in nodes_to_pass_through_str:\n",
        "        extended_path.append(node)\n",
        "        if node in equivalent_nodes_map:\n",
        "            extended_path.extend(equivalent_nodes_map[node])  # Add equivalent nodes\n",
        "\n",
        "    # Use the global graph and positions\n",
        "    global G, positions\n",
        "    node_positions = positions\n",
        "    # Start with the first node highlighted\n",
        "    current_path_index = 0\n",
        "    current_path = [extended_path[0]]\n",
        "    current_edges = []\n",
        "\n",
        "    def draw_graph(highlighted_nodes, highlighted_edges):\n",
        "        # Clear previous plots\n",
        "        plt.close('all')\n",
        "\n",
        "        # Create new figure with compact layout\n",
        "        fig = plt.figure(figsize=(12, 8))\n",
        "        ax = fig.add_subplot(111)\n",
        "        ax.axis(\"equal\")\n",
        "\n",
        "        # Set node colors\n",
        "        node_colors = ['green' if node in highlighted_nodes else 'skyblue' for node in G.nodes()]\n",
        "\n",
        "        # Set edge colors\n",
        "        edge_colors = []\n",
        "        for edge in G.edges():\n",
        "            if edge in highlighted_edges or tuple(reversed(edge)) in highlighted_edges:\n",
        "                edge_colors.append('green')\n",
        "            else:\n",
        "                edge_colors.append('black')\n",
        "\n",
        "        # Draw graph\n",
        "        nx.draw(G, pos=node_positions, ax=ax, with_labels=True, node_color=node_colors,\n",
        "                node_size=500, edge_color=edge_colors, width=2, linewidths=1, font_size=10)\n",
        "\n",
        "        plt.title(f\"Path Progress: {len(current_path)}/{len(extended_path)} nodes\", fontsize=14, pad=10)\n",
        "\n",
        "        plt.subplots_adjust(left=0.05, right=0.95, top=0.95, bottom=0.05)\n",
        "\n",
        "        plt.show()\n",
        "\n",
        "        display_widgets()\n",
        "\n",
        "    def display_widgets():\n",
        "        # Create centered container for buttons with minimal margin\n",
        "        center_box = widgets.Box([button_container], layout=widgets.Layout(\n",
        "            display='flex',\n",
        "            flex_flow='row',\n",
        "            align_items='center',\n",
        "            justify_content='center',\n",
        "            width='100%',\n",
        "            margin='0px'\n",
        "        ))\n",
        "        display(center_box)\n",
        "\n",
        "    def next_step(b):\n",
        "        nonlocal current_path, current_edges, current_path_index\n",
        "\n",
        "        if current_path_index < len(extended_path) - 1:\n",
        "            current_path_index += 1\n",
        "            next_node = extended_path[current_path_index]\n",
        "\n",
        "            # Add the edge from the last node to the next node (if applicable)\n",
        "            if len(current_path) > 0:\n",
        "                last_node = current_path[-1]\n",
        "                current_edges.append((last_node, next_node))\n",
        "\n",
        "                # Add edges for equivalent nodes and their overlaps simultaneously\n",
        "                if next_node in equivalent_nodes_map:\n",
        "                    for equivalent_node in equivalent_nodes_map[next_node]:\n",
        "                        if equivalent_node not in current_path:\n",
        "                            current_path.append(equivalent_node)\n",
        "                        current_edges.append((last_node, equivalent_node))\n",
        "\n",
        "                        # Handle overlapping edges\n",
        "                        if equivalent_node in overlapping_edges:\n",
        "                            for overlap_source in overlapping_edges[equivalent_node]:\n",
        "                                if overlap_source in current_path:\n",
        "                                    current_edges.append((overlap_source, equivalent_node))\n",
        "\n",
        "            # Now add the next node to the path if not already added\n",
        "            if next_node not in current_path:\n",
        "                current_path.append(next_node)\n",
        "\n",
        "            # Redraw with the updated path and edges\n",
        "            clear_output(wait=True)\n",
        "            draw_graph(current_path, current_edges)\n",
        "\n",
        "    def show_all(b):\n",
        "        nonlocal current_path, current_edges, current_path_index\n",
        "\n",
        "        # Highlight the entire path and all overlapping edges\n",
        "        current_path = extended_path.copy()\n",
        "        current_path_index = len(extended_path) - 1\n",
        "        current_edges = []\n",
        "\n",
        "        for i in range(len(current_path) - 1):\n",
        "            current_edges.append((current_path[i], current_path[i + 1]))\n",
        "\n",
        "        # Add overlapping edges for all equivalent nodes\n",
        "        for target, sources in overlapping_edges.items():\n",
        "            for source in sources:\n",
        "                if source in current_path and target in current_path:\n",
        "                    current_edges.append((source, target))\n",
        "\n",
        "        # Redraw with the full path\n",
        "        clear_output(wait=True)\n",
        "        draw_graph(current_path, current_edges)\n",
        "\n",
        "    # Create buttons with compact styling\n",
        "    next_button = widgets.Button(\n",
        "        description=\"Next Node\",\n",
        "        layout=widgets.Layout(width='180px', height='36px'),\n",
        "        button_style='primary'\n",
        "    )\n",
        "    next_button.on_click(next_step)\n",
        "\n",
        "    show_all_button = widgets.Button(\n",
        "        description=\"Show Full Path\",\n",
        "        layout=widgets.Layout(width='180px', height='36px'),\n",
        "        button_style='success'\n",
        "    )\n",
        "    show_all_button.on_click(show_all)\n",
        "\n",
        "    # Center buttons with minimal spacing\n",
        "    button_container = widgets.HBox([next_button, show_all_button],\n",
        "                                    layout=widgets.Layout(\n",
        "                                        display='flex',\n",
        "                                        flex_flow='row',\n",
        "                                        align_items='center',\n",
        "                                        justify_content='center',\n",
        "                                        width='100%',\n",
        "                                        gap='10px'  # Reduced gap between buttons\n",
        "                                    ))\n",
        "\n",
        "    # Apply CSS for compact layout\n",
        "    display(widgets.HTML(\"\"\"\n",
        "    <style>\n",
        "    .output_subarea {\n",
        "        max-width: 100%;\n",
        "        flex-direction: column;\n",
        "        align-items: center;\n",
        "        margin: 0 auto;\n",
        "    }\n",
        "    .widget-hbox {\n",
        "        margin-top: -15px !important;  /* Negative margin to pull buttons closer to plot */\n",
        "    }\n",
        "    .jupyter-widgets {\n",
        "        margin-top: 0 !important;\n",
        "    }\n",
        "    .output_wrapper {\n",
        "        display: flex;\n",
        "        flex-direction: column;\n",
        "        align-items: center;\n",
        "    }\n",
        "    .output_area {\n",
        "        margin-bottom: 0 !important;\n",
        "    }\n",
        "    </style>\n",
        "    \"\"\"))\n",
        "\n",
        "    # Initial plot\n",
        "    draw_graph(current_path, current_edges)"
      ],
      "metadata": {
        "id": "kVWbF6Wvvjtz"
      },
      "execution_count": null,
      "outputs": []
    },
    {
      "cell_type": "markdown",
      "source": [
        "Ήρθε η ώρα να δούμε τα αποτελέσματα."
      ],
      "metadata": {
        "id": "qhdRpyKgvmvR"
      }
    },
    {
      "cell_type": "code",
      "source": [
        "def starting_commands():\n",
        "    global start_node, target_nodes\n",
        "    print(\"Welcome to the path finding tool!\")\n",
        "    print(\"To start, please enter the ID of the starting node:\")\n",
        "    start_node = input()\n",
        "    print(\"Please enter the IDs of the target nodes separated by commas:\")\n",
        "    target_nodes = input().split(\",\")\n",
        "    return start_node, target_nodes\n",
        "\n",
        "\n",
        "# TODO: Call the function to get input data from starting commands\n",
        "# (Hint: We need to initialize our input variables)\n",
        "input_data = ______()\n",
        "\n",
        "# Get start node and target nodes from input data\n",
        "start_node = input_data[0]  # Get this from the widget output\n",
        "target_nodes = input_data[1]  # Get this from the widget output\n",
        "\n",
        "# TODO: Check if we have valid start and target nodes before finding the path\n",
        "# (Hint: We need to validate our inputs before proceeding)\n",
        "if ______ and target_nodes:\n",
        "    path = find_path_through_nodes(G, start_node, target_nodes)\n",
        "\n",
        "    if path:\n",
        "        print(f\"Found path: {path}\")\n",
        "        plot_interactive(path)\n",
        "    else:\n",
        "        print(\"No valid path found\")"
      ],
      "metadata": {
        "id": "V6QwVBLKvr13"
      },
      "execution_count": null,
      "outputs": []
    },
    {
      "cell_type": "markdown",
      "source": [
        "## Clothoids\n",
        "-------------------------------------------------"
      ],
      "metadata": {
        "id": "3DgGeb5cupDu"
      }
    },
    {
      "cell_type": "code",
      "source": [
        "class VehicleParameters:\n",
        "    def __init__(self):\n",
        "        self.wheelbase = 0.26  # 260 mm\n",
        "        self.max_wheel_angle = math.radians(90)  # 35 degrees in radians\n",
        "\n",
        "def calculate_max_curvature(vehicle_params):\n",
        "    # TODO: Calculate the max curvature the car can achieve\n",
        "    # (Hint: Max_curvature = 1 / min_radius)\n",
        "    return ___________________________________________\n",
        "\n",
        "\n",
        "def evaluate_clothoid_constraints(clothoid_list, vehicle_params):\n",
        "    max_curvature = calculate_max_curvature(vehicle_params)\n",
        "    for clothoid in clothoid_list:\n",
        "        if(max(clothoid.KappaStart,clothoid.KappaEnd) > max_curvature):\n",
        "          return False\n",
        "\n",
        "    return True\n",
        "\n",
        "def generate_clothoid_segment(x0, y0, theta0, k0, x1, y1, theta1, k1, vehicle_params):\n",
        "    try_params = [\n",
        "        (1, 0), (2, 0), (3, 10),\n",
        "        (5, 15), (10, 20), (0.5, 1)\n",
        "    ]\n",
        "    for Dmax, dmax in try_params:\n",
        "        segment = SolveG2(x0, y0, theta0, k0, x1, y1, theta1, k1, Dmax, dmax)\n",
        "        is_valid = evaluate_clothoid_constraints(segment, vehicle_params)\n",
        "        # TODO: Check if the segment created is feasible\n",
        "        if ______:\n",
        "            return segment\n",
        "\n",
        "    return None\n",
        "\n",
        "def generate_clothoid_path(path_positions, vehicle_params):\n",
        "    if len(path_positions) < 2:\n",
        "        return []\n",
        "\n",
        "    angles = []\n",
        "    for i in range(len(path_positions)-1):\n",
        "      dx = path_positions[i+1][0]-path_positions[i][0]\n",
        "      dy = path_positions[i+1][1]-path_positions[i][1]\n",
        "      angles.append(math.atan2(dy, dx))\n",
        "\n",
        "    angles.append(angles[-1])\n",
        "\n",
        "    for i in range(len(path_positions)-1):\n",
        "      dx = path_positions[i+1][0]-path_positions[i][0]\n",
        "      dy = path_positions[i+1][1]-path_positions[i][1]\n",
        "      # TODO: Compute the angle in radians between the x-axis and the vector (dx, dy)\n",
        "      angles.append(math._________)\n",
        "\n",
        "    clothoid_segments = []\n",
        "    # Generate clothoid segments for each pair of path positions\n",
        "    for i in range(len(path_positions) - 1):\n",
        "        pos1 = path_positions[i]\n",
        "        theta1 = angles[i]\n",
        "        pos2 = path_positions[i+1]\n",
        "        theta2 = angles[i+1]\n",
        "\n",
        "        # TODO: Generate a clothoid segment connecting the starting and the target positions\n",
        "        segment = generate_clothoid_segment(_____, _____, theta1, 0, _____, _____, theta2, 0, vehicle_params)\n",
        "        if segment is None:\n",
        "            print(f\"Failed to generate segment from {[pos1]} to {pos2}\")\n",
        "            return None\n",
        "\n",
        "        # Add the segment to the list\n",
        "        clothoid_segments.extend(segment)\n",
        "\n",
        "    return clothoid_segments\n",
        "\n",
        "def visualize_clothoid_path(clothoid_segments, path_positions, path_nodes):\n",
        "\n",
        "    plt.figure(figsize=(12, 8))\n",
        "    x_coords = [pos[0] for pos in path_positions]\n",
        "    y_coords = [pos[1] for pos in path_positions]\n",
        "    plt.plot(x_coords, y_coords, 'bo', markersize=10, label='Path Nodes')\n",
        "\n",
        "    for i, (x, y) in enumerate(zip(x_coords, y_coords)):\n",
        "        plt.annotate(\n",
        "            str(path_nodes[i]),\n",
        "            (x, y),\n",
        "            textcoords=\"offset points\",\n",
        "            xytext=(0, 10),  # moves the text 10 points upward\n",
        "            ha='center',\n",
        "            fontsize=10,\n",
        "            fontfamily='serif',\n",
        "            fontstyle='italic'\n",
        "        )\n",
        "\n",
        "    if clothoid_segments:\n",
        "        num_segments = len(clothoid_segments)\n",
        "\n",
        "        colors = cm.rainbow(np.linspace(0, 1, num_segments))\n",
        "\n",
        "        # Create segment labels with node information\n",
        "        segment_labels = []\n",
        "\n",
        "        for i in range(len(path_nodes)-1):\n",
        "            segment_labels.append(f'{path_nodes[i]} → {path_nodes[i+1]}')\n",
        "            segment_labels.append(f'{path_nodes[i]} → {path_nodes[i+1]}')\n",
        "            segment_labels.append(f'{path_nodes[i]} → {path_nodes[i+1]}')\n",
        "\n",
        "\n",
        "        for i, clothoid in enumerate(clothoid_segments):\n",
        "\n",
        "            X, Y = clothoid.SampleXY(100)\n",
        "            if (i%3!=0):\n",
        "                plt.plot(X, Y, color=colors[i], linewidth=2)\n",
        "            else:\n",
        "                plt.plot(X, Y, color=colors[i], linewidth=2, label=f'Segment {segment_labels[i]}')\n",
        "\n",
        "\n",
        "    plt.axis('equal')\n",
        "    plt.grid(True)\n",
        "    plt.legend(ncol=2, loc='upper left', bbox_to_anchor=(1, 1))\n",
        "\n",
        "    plt.title('Clothoid Path')\n",
        "    plt.tight_layout()\n",
        "    plt.show()"
      ],
      "metadata": {
        "id": "3g9Qu7J7DKp2"
      },
      "execution_count": null,
      "outputs": []
    },
    {
      "cell_type": "code",
      "source": [
        "# global variable path\n",
        "if fpath:\n",
        "    # Convert the node IDs to positions\n",
        "    path_positions = [positions[str(node)] for node in path]\n",
        "\n",
        "    # Initialize vehicle parameters\n",
        "    vehicle_params = VehicleParameters()\n",
        "    clothoid_segments = generate_clothoid_path(path_positions, vehicle_params)\n",
        "\n",
        "    if clothoid_segments:\n",
        "        # TODO: Visualize the final result\n",
        "        ____________________________________________________\n",
        "    else:\n",
        "        print(\"Failed to generate clothoid path\")"
      ],
      "metadata": {
        "id": "Fl4Tr6YpDt_I"
      },
      "execution_count": null,
      "outputs": []
    },
    {
      "cell_type": "markdown",
      "source": [
        "$$\\text{Ευχαριστούμε πολύ!!}$$"
      ],
      "metadata": {
        "id": "q-S3IjWTYexJ"
      }
    }
  ]
}